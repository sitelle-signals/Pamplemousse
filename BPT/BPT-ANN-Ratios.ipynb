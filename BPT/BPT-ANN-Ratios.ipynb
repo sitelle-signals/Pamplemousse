{
 "cells": [
  {
   "cell_type": "markdown",
   "metadata": {
    "pycharm": {
     "is_executing": false,
     "name": "#%% md\n"
    }
   },
   "source": [
    "# Supervised Learning and Emission Line Nebulae\n",
    "This notebook explores the use of an ANN to do rapid BPT classifications.\n",
    "\n",
    "The basic outline is as follows:\n",
    "   1.  Obtain emission line ratios from 3Mdb with associated emission type \n",
    "   (i.e. Planetary Nebula, Supernova Remnant, etc.)\n",
    "   2. Apply ANN to line ratios to find categorizing\n",
    "   3. Verify results using emission type information\n",
    "   "
   ]
  },
  {
   "cell_type": "code",
   "execution_count": 1,
   "metadata": {},
   "outputs": [],
   "source": [
    "import matplotlib.pyplot as plt\n",
    "from astropy.io import fits\n",
    "from scipy import interpolate\n",
    "import numpy as np\n",
    "import seaborn as sns\n",
    "import pandas as pd\n",
    "import tensorflow as tf\n",
    "from sklearn.metrics import confusion_matrix\n",
    "import warnings\n",
    "warnings.filterwarnings(\"ignore\")\n",
    "#import plotly.express as px\n",
    "from tensorflow.keras.optimizers import Adam, SGD\n",
    "from tensorflow.keras.callbacks import EarlyStopping, ReduceLROnPlateau\n",
    "from sklearn.preprocessing import StandardScaler, MinMaxScaler, RobustScaler, PowerTransformer\n",
    "from tensorflow.keras.regularizers import l2\n",
    "from sklearn.ensemble import GradientBoostingClassifier\n",
    "import pickle"
   ]
  },
  {
   "cell_type": "code",
   "execution_count": 2,
   "metadata": {},
   "outputs": [
    {
     "name": "stdout",
     "output_type": "stream",
     "text": [
      "We have 35100 HII regions\n",
      "We have 44245 Planetary Nebulae\n",
      "We have 58903 Supernova Remnants\n"
     ]
    }
   ],
   "source": [
    "# Read in line fluxes\n",
    "# HII Regions\n",
    "Param_dict_HII = {}\n",
    "for line in open('Ratios_HII_ratios.txt').readlines():\n",
    "    vals = [text.strip('\\n') for text in line.split(' ')]\n",
    "    Param_dict_HII[vals[0]] = [float(vals[1]), float(vals[2]), float(vals[3]), float(vals[4]), float(vals[5])]\n",
    "# PNe\n",
    "Param_dict_PNe = {}\n",
    "for line in open('Ratios_PNe_ratios.txt').readlines():\n",
    "    vals = [text.strip('\\n') for text in line.split(' ')]\n",
    "    Param_dict_PNe[vals[0]] = [float(vals[1]), float(vals[2]), float(vals[3]), float(vals[4]), float(vals[5])]\n",
    "# SNR\n",
    "Param_dict_SNR = {}\n",
    "for line in open('Ratios_SNR_ratios.txt').readlines():\n",
    "    vals = [text.strip('\\n') for text in line.split(' ')]\n",
    "    Param_dict_SNR[vals[0]] = [float(vals[1]), float(vals[2]), float(vals[3]), float(vals[4]), float(vals[5])]\n",
    "\n",
    "print(\"We have %i HII regions\"%len(Param_dict_HII))\n",
    "print(\"We have %i Planetary Nebulae\"%len(Param_dict_PNe))\n",
    "print(\"We have %i Supernova Remnants\"%len(Param_dict_SNR))"
   ]
  },
  {
   "cell_type": "code",
   "execution_count": 3,
   "metadata": {},
   "outputs": [],
   "source": [
    "# Make Pandas DF and calculate ratios\n",
    "HII = pd.DataFrame.from_dict(Param_dict_HII, orient=\"index\", columns=['O3_hb', 's1s2_ha', 'n2_ha', 'O2_O3', 'ha'])#.sample(n=10000, replace=True).reset_index(drop=True)\n",
    "HII['Type'] = HII.apply(lambda row: 0, axis=1)\n",
    "\n",
    "PNe = pd.DataFrame.from_dict(Param_dict_PNe, orient=\"index\", columns=['O3_hb', 's1s2_ha', 'n2_ha', 'O2_O3', 'ha']).sample(n=len(Param_dict_HII)).reset_index(drop=True)\n",
    "PNe['Type'] = PNe.apply(lambda row: 1, axis=1)\n",
    "\n",
    "SNR = pd.DataFrame.from_dict(Param_dict_SNR, orient=\"index\", columns=['O3_hb', 's1s2_ha', 'n2_ha', 'O2_O3', 'ha']).sample(n=len(Param_dict_HII)).reset_index(drop=True)\n",
    "SNR['Type'] = SNR.apply(lambda row: 2, axis=1)\n",
    "\n",
    "\n",
    "\n",
    "total = HII.append(PNe).append(SNR)#.append(DIG)\n",
    "total = total.sample(frac=1, random_state=1).reset_index(drop=True)  # Shuffle"
   ]
  },
  {
   "cell_type": "code",
   "execution_count": 4,
   "metadata": {},
   "outputs": [
    {
     "data": {
      "text/html": [
       "<div>\n",
       "<style scoped>\n",
       "    .dataframe tbody tr th:only-of-type {\n",
       "        vertical-align: middle;\n",
       "    }\n",
       "\n",
       "    .dataframe tbody tr th {\n",
       "        vertical-align: top;\n",
       "    }\n",
       "\n",
       "    .dataframe thead th {\n",
       "        text-align: right;\n",
       "    }\n",
       "</style>\n",
       "<table border=\"1\" class=\"dataframe\">\n",
       "  <thead>\n",
       "    <tr style=\"text-align: right;\">\n",
       "      <th></th>\n",
       "      <th>O3_hb</th>\n",
       "      <th>s1s2_ha</th>\n",
       "      <th>n2_ha</th>\n",
       "      <th>O2_O3</th>\n",
       "      <th>ha</th>\n",
       "      <th>Type</th>\n",
       "    </tr>\n",
       "  </thead>\n",
       "  <tbody>\n",
       "    <tr>\n",
       "      <th>0</th>\n",
       "      <td>12.819000</td>\n",
       "      <td>0.275260</td>\n",
       "      <td>0.806140</td>\n",
       "      <td>0.109750</td>\n",
       "      <td>1.406800</td>\n",
       "      <td>1</td>\n",
       "    </tr>\n",
       "    <tr>\n",
       "      <th>1</th>\n",
       "      <td>8.925600</td>\n",
       "      <td>0.001943</td>\n",
       "      <td>0.000511</td>\n",
       "      <td>0.002905</td>\n",
       "      <td>0.025930</td>\n",
       "      <td>1</td>\n",
       "    </tr>\n",
       "    <tr>\n",
       "      <th>2</th>\n",
       "      <td>1.328100</td>\n",
       "      <td>0.035909</td>\n",
       "      <td>0.375770</td>\n",
       "      <td>0.179790</td>\n",
       "      <td>0.238790</td>\n",
       "      <td>0</td>\n",
       "    </tr>\n",
       "    <tr>\n",
       "      <th>3</th>\n",
       "      <td>0.006830</td>\n",
       "      <td>0.170160</td>\n",
       "      <td>0.190480</td>\n",
       "      <td>143.210000</td>\n",
       "      <td>0.978120</td>\n",
       "      <td>1</td>\n",
       "    </tr>\n",
       "    <tr>\n",
       "      <th>4</th>\n",
       "      <td>0.000016</td>\n",
       "      <td>0.168070</td>\n",
       "      <td>0.281950</td>\n",
       "      <td>8503.800000</td>\n",
       "      <td>0.135370</td>\n",
       "      <td>0</td>\n",
       "    </tr>\n",
       "    <tr>\n",
       "      <th>...</th>\n",
       "      <td>...</td>\n",
       "      <td>...</td>\n",
       "      <td>...</td>\n",
       "      <td>...</td>\n",
       "      <td>...</td>\n",
       "      <td>...</td>\n",
       "    </tr>\n",
       "    <tr>\n",
       "      <th>105295</th>\n",
       "      <td>0.307780</td>\n",
       "      <td>0.000083</td>\n",
       "      <td>0.000759</td>\n",
       "      <td>0.004560</td>\n",
       "      <td>0.001403</td>\n",
       "      <td>1</td>\n",
       "    </tr>\n",
       "    <tr>\n",
       "      <th>105296</th>\n",
       "      <td>0.884210</td>\n",
       "      <td>1.546400</td>\n",
       "      <td>2.125400</td>\n",
       "      <td>7.132200</td>\n",
       "      <td>6.306400</td>\n",
       "      <td>2</td>\n",
       "    </tr>\n",
       "    <tr>\n",
       "      <th>105297</th>\n",
       "      <td>0.749080</td>\n",
       "      <td>0.127590</td>\n",
       "      <td>0.025542</td>\n",
       "      <td>1.816400</td>\n",
       "      <td>1.360600</td>\n",
       "      <td>0</td>\n",
       "    </tr>\n",
       "    <tr>\n",
       "      <th>105298</th>\n",
       "      <td>40.144000</td>\n",
       "      <td>0.221160</td>\n",
       "      <td>0.773220</td>\n",
       "      <td>0.332730</td>\n",
       "      <td>13.357000</td>\n",
       "      <td>2</td>\n",
       "    </tr>\n",
       "    <tr>\n",
       "      <th>105299</th>\n",
       "      <td>4.119000</td>\n",
       "      <td>0.428650</td>\n",
       "      <td>0.531590</td>\n",
       "      <td>0.931780</td>\n",
       "      <td>3.838000</td>\n",
       "      <td>2</td>\n",
       "    </tr>\n",
       "  </tbody>\n",
       "</table>\n",
       "<p>105300 rows × 6 columns</p>\n",
       "</div>"
      ],
      "text/plain": [
       "            O3_hb   s1s2_ha     n2_ha        O2_O3         ha  Type\n",
       "0       12.819000  0.275260  0.806140     0.109750   1.406800     1\n",
       "1        8.925600  0.001943  0.000511     0.002905   0.025930     1\n",
       "2        1.328100  0.035909  0.375770     0.179790   0.238790     0\n",
       "3        0.006830  0.170160  0.190480   143.210000   0.978120     1\n",
       "4        0.000016  0.168070  0.281950  8503.800000   0.135370     0\n",
       "...           ...       ...       ...          ...        ...   ...\n",
       "105295   0.307780  0.000083  0.000759     0.004560   0.001403     1\n",
       "105296   0.884210  1.546400  2.125400     7.132200   6.306400     2\n",
       "105297   0.749080  0.127590  0.025542     1.816400   1.360600     0\n",
       "105298  40.144000  0.221160  0.773220     0.332730  13.357000     2\n",
       "105299   4.119000  0.428650  0.531590     0.931780   3.838000     2\n",
       "\n",
       "[105300 rows x 6 columns]"
      ]
     },
     "execution_count": 4,
     "metadata": {},
     "output_type": "execute_result"
    }
   ],
   "source": [
    "total"
   ]
  },
  {
   "cell_type": "code",
   "execution_count": 5,
   "metadata": {},
   "outputs": [
    {
     "name": "stdout",
     "output_type": "stream",
     "text": [
      "0.0 89.934\n",
      "1.4253e-06 4.64\n",
      "0.0 17.921\n",
      "1.1273e-06 inf\n",
      "0.0 51.325\n"
     ]
    }
   ],
   "source": [
    "print(total['O3_hb'].min(), total['O3_hb'].max())\n",
    "print(total['s1s2_ha'].min(), total['s1s2_ha'].max())\n",
    "print(total['n2_ha'].min(), total['n2_ha'].max())\n",
    "print(total['O2_O3'].min(), total['O2_O3'].max())\n",
    "print(total['ha'].min(), total['ha'].max())"
   ]
  },
  {
   "cell_type": "markdown",
   "metadata": {},
   "source": [
    "# Machine Learning Algo\n",
    "Now that we have the ratios for HII and PNe regions, we can apply our neural network"
   ]
  },
  {
   "cell_type": "code",
   "execution_count": 6,
   "metadata": {},
   "outputs": [
    {
     "name": "stdout",
     "output_type": "stream",
     "text": [
      "WARNING:tensorflow:`epsilon` argument is deprecated and will be removed, use `min_delta` instead.\n"
     ]
    },
    {
     "name": "stderr",
     "output_type": "stream",
     "text": [
      "2022-03-09 15:52:39.507801: I tensorflow/core/platform/cpu_feature_guard.cc:142] This TensorFlow binary is optimized with oneAPI Deep Neural Network Library (oneDNN) to use the following CPU instructions in performance-critical operations:  SSE4.1 SSE4.2 AVX AVX2 FMA\n",
      "To enable them in other operations, rebuild TensorFlow with the appropriate compiler flags.\n",
      "2022-03-09 15:52:39.509513: I tensorflow/core/common_runtime/process_util.cc:146] Creating new thread pool with default inter op setting: 2. Tune using inter_op_parallelism_threads for best performance.\n"
     ]
    }
   ],
   "source": [
    "def create_model():\n",
    "    return tf.keras.models.Sequential([\n",
    "      tf.keras.layers.Dense(256, input_shape=(3,),activation='relu'),\n",
    "      tf.keras.layers.Dropout(0.20),  \n",
    "      tf.keras.layers.Dense(256, activation='relu'),\n",
    "      tf.keras.layers.Dropout(0.20),\n",
    "      tf.keras.layers.Dense(256, activation='relu'),\n",
    "      tf.keras.layers.Dense(3, activation='softmax')\n",
    "    ])\n",
    "model = create_model()\n",
    "opt = tf.keras.optimizers.Adam(learning_rate=0.001)\n",
    "early_stopping_min_delta = 0.0001\n",
    "early_stopping_patience = 4\n",
    "reduce_lr_factor = 0.5\n",
    "reuce_lr_epsilon = 0.009\n",
    "reduce_lr_patience = 2\n",
    "reduce_lr_min = 0.00008\n",
    "early_stopping = EarlyStopping(monitor='val_loss', min_delta=early_stopping_min_delta, \n",
    "                                       patience=early_stopping_patience, verbose=2, mode='min')\n",
    "\n",
    "reduce_lr = ReduceLROnPlateau(monitor='val_loss', factor=0.5, epsilon=reuce_lr_epsilon, \n",
    "                                  patience=reduce_lr_patience, min_lr=reduce_lr_min, mode='min', verbose=2)\n",
    "\n",
    "model.compile(optimizer=opt,\n",
    "              loss='sparse_categorical_crossentropy',\n",
    "              metrics=['accuracy', 'mse'])"
   ]
  },
  {
   "cell_type": "code",
   "execution_count": 7,
   "metadata": {},
   "outputs": [
    {
     "name": "stderr",
     "output_type": "stream",
     "text": [
      "2022-03-09 15:52:39.857182: I tensorflow/compiler/mlir/mlir_graph_optimization_pass.cc:185] None of the MLIR Optimization Passes are enabled (registered 2)\n"
     ]
    },
    {
     "name": "stdout",
     "output_type": "stream",
     "text": [
      "Epoch 1/5\n",
      "2304/2304 [==============================] - 16s 7ms/step - loss: 0.4741 - accuracy: 0.7791 - mse: 1.2350 - val_loss: 0.4083 - val_accuracy: 0.8120 - val_mse: 1.2455\n",
      "Epoch 2/5\n",
      "2304/2304 [==============================] - 16s 7ms/step - loss: 0.4087 - accuracy: 0.8151 - mse: 1.2493 - val_loss: 0.3769 - val_accuracy: 0.8401 - val_mse: 1.2441\n",
      "Epoch 3/5\n",
      "2304/2304 [==============================] - 15s 7ms/step - loss: 0.3917 - accuracy: 0.8246 - mse: 1.2528 - val_loss: 0.3712 - val_accuracy: 0.8320 - val_mse: 1.2510\n",
      "Epoch 4/5\n",
      "2304/2304 [==============================] - 16s 7ms/step - loss: 0.3828 - accuracy: 0.8273 - mse: 1.2548 - val_loss: 0.3685 - val_accuracy: 0.8370 - val_mse: 1.2364\n",
      "Epoch 5/5\n",
      "2304/2304 [==============================] - 15s 6ms/step - loss: 0.3736 - accuracy: 0.8324 - mse: 1.2563 - val_loss: 0.3596 - val_accuracy: 0.8501 - val_mse: 1.2479\n"
     ]
    },
    {
     "name": "stderr",
     "output_type": "stream",
     "text": [
      "2022-03-09 15:53:58.665087: W tensorflow/python/util/util.cc:348] Sets are not currently considered sequences, but this may change in the future, so consider avoiding using them.\n"
     ]
    },
    {
     "name": "stdout",
     "output_type": "stream",
     "text": [
      "INFO:tensorflow:Assets written to: ANN_model/assets\n"
     ]
    }
   ],
   "source": [
    "inputs = total[['O3_hb', 's1s2_ha', 'n2_ha']].to_numpy(dtype=float)\n",
    "labels = total['Type'].to_list()\n",
    "num_inputs = len(inputs)\n",
    "div_per = 0.7\n",
    "valid_per = 0.9\n",
    "X_training = np.array(inputs[:int(div_per*num_inputs)], dtype=float)\n",
    "Y_training = np.array(labels[:int(div_per*num_inputs)])\n",
    "mm_scaler = PowerTransformer()#MinMaxScaler()\n",
    "X_training = mm_scaler.fit_transform(X_training)\n",
    "\n",
    "X_valid = np.array(inputs[int(div_per*num_inputs):int(valid_per*num_inputs)])\n",
    "Y_valid = np.array(labels[int(div_per*num_inputs):int(valid_per*num_inputs)])\n",
    "X_valid = mm_scaler.transform(X_valid)\n",
    "\n",
    "X_test = np.array(inputs[int(valid_per*num_inputs):])\n",
    "Y_test = labels[int(valid_per*num_inputs):]\n",
    "X_test = mm_scaler.transform(X_test)\n",
    "\n",
    "model.fit(x=X_training,\n",
    "          y=Y_training,\n",
    "          epochs=5,\n",
    "          validation_data=(X_valid, Y_valid)\n",
    "          )\n",
    "model.save('ANN_model')"
   ]
  },
  {
   "cell_type": "code",
   "execution_count": 8,
   "metadata": {},
   "outputs": [],
   "source": [
    "pickle.dump(mm_scaler, open('BPT_scaler.pkl', 'wb'))"
   ]
  },
  {
   "cell_type": "code",
   "execution_count": 9,
   "metadata": {},
   "outputs": [
    {
     "data": {
      "image/png": "[encoded data removed]",
      "text/plain": [
       "<Figure size 432x288 with 2 Axes>"
      ]
     },
     "metadata": {
      "needs_background": "light"
     },
     "output_type": "display_data"
    }
   ],
   "source": [
    "predictions = model.predict(X_test)\n",
    "predictions = [np.argmax(pred) for pred in predictions]\n",
    "\n",
    "matrix_conf = confusion_matrix(Y_test, predictions)\n",
    "\n",
    "# Normalize confusion matrix\n",
    "matrix_conf = matrix_conf.astype('float64') \n",
    "norm_fac = np.sum(matrix_conf[:], axis=1)\n",
    "for row in range(matrix_conf.shape[0]):\n",
    "    matrix_conf[row,:] = np.round(matrix_conf[row,:]*(1/norm_fac[row]),2)*100\n",
    "# Plot confusion matrix    \n",
    "sns_plot = sns.heatmap(matrix_conf, annot=True, cmap='Purples', xticklabels=['HII', 'PNe', 'SNR'], yticklabels=['HII', 'PNe', 'SNR'])\n",
    "#sns_plot.set(xticklab\n",
    "ls=np.arange(1,5)\n",
    "#sns_plot.set(yticklabels=np.arange(1,5))\n",
    "plt.ylabel('True', fontsize='x-large')\n",
    "plt.xlabel('Predicted', fontsize='x-large')\n",
    "sns_fig = sns_plot.get_figure()\n",
    "sns_fig.savefig('Confusion-Matrix-CNN.png')"
   ]
  },
  {
   "cell_type": "code",
   "execution_count": null,
   "metadata": {},
   "outputs": [],
   "source": []
  },
  {
   "cell_type": "markdown",
   "metadata": {},
   "source": [
    "## Gradient Boosted Decision Tree"
   ]
  },
  {
   "cell_type": "code",
   "execution_count": 10,
   "metadata": {},
   "outputs": [
    {
     "ename": "KeyboardInterrupt",
     "evalue": "",
     "output_type": "error",
     "traceback": [
      "\u001b[0;31m---------------------------------------------------------------------------\u001b[0m",
      "\u001b[0;31mKeyboardInterrupt\u001b[0m                         Traceback (most recent call last)",
      "\u001b[0;32m/tmp/ipykernel_2134105/1623431112.py\u001b[0m in \u001b[0;36m<module>\u001b[0;34m\u001b[0m\n\u001b[1;32m      1\u001b[0m \u001b[0;31m# with sklearn\u001b[0m\u001b[0;34m\u001b[0m\u001b[0;34m\u001b[0m\u001b[0m\n\u001b[0;32m----> 2\u001b[0;31m clf = GradientBoostingClassifier(n_estimators=200, learning_rate=0.08,\n\u001b[0m\u001b[1;32m      3\u001b[0m     max_depth=5 , random_state=0).fit(X_training, Y_training)\n\u001b[1;32m      4\u001b[0m \u001b[0;34m\u001b[0m\u001b[0m\n\u001b[1;32m      5\u001b[0m \u001b[0mpredictions\u001b[0m \u001b[0;34m=\u001b[0m \u001b[0mclf\u001b[0m\u001b[0;34m.\u001b[0m\u001b[0mpredict\u001b[0m\u001b[0;34m(\u001b[0m\u001b[0mX_test\u001b[0m\u001b[0;34m)\u001b[0m\u001b[0;34m\u001b[0m\u001b[0;34m\u001b[0m\u001b[0m\n",
      "\u001b[0;32m~/anaconda3/envs/astro/lib/python3.9/site-packages/sklearn/ensemble/_gb.py\u001b[0m in \u001b[0;36mfit\u001b[0;34m(self, X, y, sample_weight, monitor)\u001b[0m\n\u001b[1;32m    584\u001b[0m \u001b[0;34m\u001b[0m\u001b[0m\n\u001b[1;32m    585\u001b[0m         \u001b[0;31m# fit the boosting stages\u001b[0m\u001b[0;34m\u001b[0m\u001b[0;34m\u001b[0m\u001b[0m\n\u001b[0;32m--> 586\u001b[0;31m         n_stages = self._fit_stages(\n\u001b[0m\u001b[1;32m    587\u001b[0m             \u001b[0mX\u001b[0m\u001b[0;34m,\u001b[0m\u001b[0;34m\u001b[0m\u001b[0;34m\u001b[0m\u001b[0m\n\u001b[1;32m    588\u001b[0m             \u001b[0my\u001b[0m\u001b[0;34m,\u001b[0m\u001b[0;34m\u001b[0m\u001b[0;34m\u001b[0m\u001b[0m\n",
      "\u001b[0;32m~/anaconda3/envs/astro/lib/python3.9/site-packages/sklearn/ensemble/_gb.py\u001b[0m in \u001b[0;36m_fit_stages\u001b[0;34m(self, X, y, raw_predictions, sample_weight, random_state, X_val, y_val, sample_weight_val, begin_at_stage, monitor)\u001b[0m\n\u001b[1;32m    687\u001b[0m             \u001b[0;32melse\u001b[0m\u001b[0;34m:\u001b[0m\u001b[0;34m\u001b[0m\u001b[0;34m\u001b[0m\u001b[0m\n\u001b[1;32m    688\u001b[0m                 \u001b[0;31m# no need to fancy index w/ no subsampling\u001b[0m\u001b[0;34m\u001b[0m\u001b[0;34m\u001b[0m\u001b[0m\n\u001b[0;32m--> 689\u001b[0;31m                 \u001b[0mself\u001b[0m\u001b[0;34m.\u001b[0m\u001b[0mtrain_score_\u001b[0m\u001b[0;34m[\u001b[0m\u001b[0mi\u001b[0m\u001b[0;34m]\u001b[0m \u001b[0;34m=\u001b[0m \u001b[0mloss_\u001b[0m\u001b[0;34m(\u001b[0m\u001b[0my\u001b[0m\u001b[0;34m,\u001b[0m \u001b[0mraw_predictions\u001b[0m\u001b[0;34m,\u001b[0m \u001b[0msample_weight\u001b[0m\u001b[0;34m)\u001b[0m\u001b[0;34m\u001b[0m\u001b[0;34m\u001b[0m\u001b[0m\n\u001b[0m\u001b[1;32m    690\u001b[0m \u001b[0;34m\u001b[0m\u001b[0m\n\u001b[1;32m    691\u001b[0m             \u001b[0;32mif\u001b[0m \u001b[0mself\u001b[0m\u001b[0;34m.\u001b[0m\u001b[0mverbose\u001b[0m \u001b[0;34m>\u001b[0m \u001b[0;36m0\u001b[0m\u001b[0;34m:\u001b[0m\u001b[0;34m\u001b[0m\u001b[0;34m\u001b[0m\u001b[0m\n",
      "\u001b[0;32m~/anaconda3/envs/astro/lib/python3.9/site-packages/sklearn/ensemble/_gb_losses.py\u001b[0m in \u001b[0;36m__call__\u001b[0;34m(self, y, raw_predictions, sample_weight)\u001b[0m\n\u001b[1;32m    801\u001b[0m \u001b[0;34m\u001b[0m\u001b[0m\n\u001b[1;32m    802\u001b[0m         return np.average(\n\u001b[0;32m--> 803\u001b[0;31m             \u001b[0;34m-\u001b[0m\u001b[0;36m1\u001b[0m \u001b[0;34m*\u001b[0m \u001b[0;34m(\u001b[0m\u001b[0mY\u001b[0m \u001b[0;34m*\u001b[0m \u001b[0mraw_predictions\u001b[0m\u001b[0;34m)\u001b[0m\u001b[0;34m.\u001b[0m\u001b[0msum\u001b[0m\u001b[0;34m(\u001b[0m\u001b[0maxis\u001b[0m\u001b[0;34m=\u001b[0m\u001b[0;36m1\u001b[0m\u001b[0;34m)\u001b[0m \u001b[0;34m+\u001b[0m \u001b[0mlogsumexp\u001b[0m\u001b[0;34m(\u001b[0m\u001b[0mraw_predictions\u001b[0m\u001b[0;34m,\u001b[0m \u001b[0maxis\u001b[0m\u001b[0;34m=\u001b[0m\u001b[0;36m1\u001b[0m\u001b[0;34m)\u001b[0m\u001b[0;34m,\u001b[0m\u001b[0;34m\u001b[0m\u001b[0;34m\u001b[0m\u001b[0m\n\u001b[0m\u001b[1;32m    804\u001b[0m             \u001b[0mweights\u001b[0m\u001b[0;34m=\u001b[0m\u001b[0msample_weight\u001b[0m\u001b[0;34m,\u001b[0m\u001b[0;34m\u001b[0m\u001b[0;34m\u001b[0m\u001b[0m\n\u001b[1;32m    805\u001b[0m         )\n",
      "\u001b[0;32m~/anaconda3/envs/astro/lib/python3.9/site-packages/scipy/special/_logsumexp.py\u001b[0m in \u001b[0;36mlogsumexp\u001b[0;34m(a, axis, b, keepdims, return_sign)\u001b[0m\n\u001b[1;32m    108\u001b[0m         \u001b[0mtmp\u001b[0m \u001b[0;34m=\u001b[0m \u001b[0mb\u001b[0m \u001b[0;34m*\u001b[0m \u001b[0mnp\u001b[0m\u001b[0;34m.\u001b[0m\u001b[0mexp\u001b[0m\u001b[0;34m(\u001b[0m\u001b[0ma\u001b[0m \u001b[0;34m-\u001b[0m \u001b[0ma_max\u001b[0m\u001b[0;34m)\u001b[0m\u001b[0;34m\u001b[0m\u001b[0;34m\u001b[0m\u001b[0m\n\u001b[1;32m    109\u001b[0m     \u001b[0;32melse\u001b[0m\u001b[0;34m:\u001b[0m\u001b[0;34m\u001b[0m\u001b[0;34m\u001b[0m\u001b[0m\n\u001b[0;32m--> 110\u001b[0;31m         \u001b[0mtmp\u001b[0m \u001b[0;34m=\u001b[0m \u001b[0mnp\u001b[0m\u001b[0;34m.\u001b[0m\u001b[0mexp\u001b[0m\u001b[0;34m(\u001b[0m\u001b[0ma\u001b[0m \u001b[0;34m-\u001b[0m \u001b[0ma_max\u001b[0m\u001b[0;34m)\u001b[0m\u001b[0;34m\u001b[0m\u001b[0;34m\u001b[0m\u001b[0m\n\u001b[0m\u001b[1;32m    111\u001b[0m \u001b[0;34m\u001b[0m\u001b[0m\n\u001b[1;32m    112\u001b[0m     \u001b[0;31m# suppress warnings about log of zero\u001b[0m\u001b[0;34m\u001b[0m\u001b[0;34m\u001b[0m\u001b[0m\n",
      "\u001b[0;31mKeyboardInterrupt\u001b[0m: "
     ]
    }
   ],
   "source": [
    "# with sklearn\n",
    "clf = GradientBoostingClassifier(n_estimators=200, learning_rate=0.08,\n",
    "    max_depth=5 , random_state=0).fit(X_training, Y_training)\n",
    "\n",
    "predictions = clf.predict(X_test)\n",
    "\n",
    "matrix_conf = confusion_matrix(Y_test, predictions)\n",
    "\n",
    "# Normalize confusion matrix\n",
    "matrix_conf = matrix_conf.astype('float64') \n",
    "norm_fac = np.sum(matrix_conf[:], axis=1)\n",
    "for row in range(matrix_conf.shape[0]):\n",
    "    matrix_conf[row,:] = np.round(matrix_conf[row,:]*(1/norm_fac[row]),2)*100\n",
    "# Plot confusion matrix    \n",
    "sns_plot = sns.heatmap(matrix_conf, annot=True, cmap='Purples', xticklabels=['HII', 'PNe', 'SNR'], yticklabels=['HII', 'PNe', 'SNR'])\n",
    "#sns_plot.set(xticklabels=np.arange(1,5))\n",
    "#sns_plot.set(yticklabels=np.arange(1,5))\n",
    "plt.ylabel('True', fontsize='x-large')\n",
    "plt.xlabel('Predicted', fontsize='x-large')\n",
    "sns_fig = sns_plot.get_figure()\n",
    "sns_fig.savefig('Confusion-Matrix-GBDT.png', dpi=300)"
   ]
  },
  {
   "cell_type": "code",
   "execution_count": null,
   "metadata": {},
   "outputs": [],
   "source": [
    "importance = pd.DataFrame({'feature': ['O3_hb', 's1s2_ha', 'n2_ha'], 'importance': 100*np.round(clf.feature_importances_, 6)}).sort_values('importance', ascending=False)\n",
    "importance"
   ]
  },
  {
   "cell_type": "code",
   "execution_count": null,
   "metadata": {},
   "outputs": [],
   "source": [
    "fig = plt.figure(figsize=(20,8))\n",
    "plt.scatter(importance.feature, 'importance', data=importance)\n",
    "fig.autofmt_xdate()\n",
    "plt.xticks(fontsize=14)\n",
    "plt.yticks(fontsize=14)\n",
    "plt.xlabel('Feature Name', fontsize=25)\n",
    "plt.ylabel('Importance of Feature (%)', fontsize=25)\n",
    "plt.savefig('Feature-Importance.png')"
   ]
  },
  {
   "cell_type": "code",
   "execution_count": null,
   "metadata": {},
   "outputs": [],
   "source": [
    "pickle.dump(clf, open('GBDT.pkl', 'wb'))"
   ]
  },
  {
   "cell_type": "markdown",
   "metadata": {},
   "source": [
    "## Comparison with Kewley and Kaufmann lines for the 2D cuts"
   ]
  },
  {
   "cell_type": "code",
   "execution_count": null,
   "metadata": {},
   "outputs": [],
   "source": []
  },
  {
   "cell_type": "code",
   "execution_count": null,
   "metadata": {},
   "outputs": [],
   "source": []
  },
  {
   "cell_type": "code",
   "execution_count": null,
   "metadata": {},
   "outputs": [],
   "source": [
    "fig = plt.figure(figsize=((10,8)))\n",
    "HII_test = [reg for ct,reg in enumerate(inputs) if labels[ct] == 0]\n",
    "PNe_test = [reg for ct,reg in enumerate(inputs) if labels[ct] == 1]\n",
    "SNR_test = [reg for ct,reg in enumerate(inputs) if labels[ct] == 2]\n",
    "plt.scatter(\n",
    "    [np.log10(float(val[1])) for val in SNR_test], [np.log10(float(val[0])) for val in SNR_test],\n",
    "    s=50, c='turquoise',\n",
    "    alpha=0.15,\n",
    "    marker='o',\n",
    "    label='SNR'\n",
    ")\n",
    "plt.scatter(\n",
    "    [np.log10(float(val[1])) for val in HII_test], [np.log10(float(val[0])) for val in HII_test],\n",
    "    s=50, c='coral',\n",
    "    marker='o',\n",
    "    alpha=0.15,\n",
    "    label='HII'\n",
    ")\n",
    "plt.scatter(\n",
    "    [np.log10(float(val[1])) for val in PNe_test], [np.log10(float(val[0])) for val in PNe_test],\n",
    "    s=50, c='gold',\n",
    "    marker='o',\n",
    "    alpha=0.15,\n",
    "    label='PNe'\n",
    ")\n",
    "\n",
    "# Plot AGN Line\n",
    "X_kew = np.linspace(-2,0.3)\n",
    "Y_kew = (0.72/( X_kew  - 0.32  )) + 1.3\n",
    "plt.plot(X_kew,   Y_kew, '-' , color='darkslategrey', lw=3, label='Main AGN') \n",
    "\n",
    "# Plot Liner/Sey2 Line\n",
    "X_kauf = np.linspace(-0.3,1)\n",
    "Y_kauf = (1.89*( X_kauf   )) + 0.76\n",
    "plt.plot(X_kauf,   Y_kauf, '--' , color='darkslategrey', lw=3, label='LINER/Sey2')\n",
    "\n",
    "\n",
    "plt.ylabel(r\"O[III]/H$\\beta$\", fontsize=16, fontweight='bold')\n",
    "plt.xlabel(r\"S[II]/H$\\alpha$\", fontsize=16, fontweight='bold')\n",
    "plt.xlim(-1.2, 0.8)\n",
    "plt.ylim(-1,2)\n",
    "leg = plt.legend(fontsize='x-large')\n",
    "for lh in leg.legendHandles: \n",
    "    lh.set_alpha(1)\n",
    "plt.savefig('SIIvsOIII.png')"
   ]
  },
  {
   "cell_type": "code",
   "execution_count": null,
   "metadata": {},
   "outputs": [],
   "source": [
    "fig = plt.figure(figsize=((10,8)))\n",
    "\n",
    "plt.scatter(\n",
    "    [np.log10(float(val[2])) for val in SNR_test], [np.log10(float(val[0])) for val in SNR_test],\n",
    "    s=50, c='turquoise',\n",
    "    marker='o',\n",
    "    alpha=0.15,\n",
    "    label='SNR'\n",
    ")\n",
    "plt.scatter(\n",
    "    [np.log10(float(val[2])) for val in HII_test], [np.log10(float(val[0])) for val in HII_test],\n",
    "    s=50, c='coral',\n",
    "    marker='o',\n",
    "    alpha=0.15,\n",
    "    label='HII'\n",
    ")\n",
    "plt.scatter(\n",
    "    [np.log10(float(val[2])) for val in PNe_test], [np.log10(float(val[0])) for val in PNe_test],\n",
    "    s=50, c='gold',\n",
    "    marker='o',\n",
    "    alpha=0.15,\n",
    "    label='PNe'\n",
    ")\n",
    "\n",
    "# Plot Kewley 2001 Line\n",
    "X_kew = np.linspace(-2,0.41)\n",
    "Y_kew = (0.61/( X_kew  - 0.47  )) + 1.19\n",
    "plt.plot(X_kew,   Y_kew, '-' , color='darkslategrey', lw=3, label='Kewley+01') \n",
    "\n",
    "# Plot Kaufman 2003 Line\n",
    "X_kauf = np.linspace(-2,0)\n",
    "Y_kauf = (0.61/( X_kauf  - 0.05  )) + 1.3\n",
    "plt.plot(X_kauf,   Y_kauf, '--' , color='darkslategrey', lw=3, label='Kauffmann+03') \n",
    "\n",
    "plt.ylabel(r\"O[III]/H$\\beta$\", fontsize=16, fontweight='bold')\n",
    "plt.xlabel(r\"N[II]/H$\\alpha$\", fontsize=16, fontweight='bold')\n",
    "plt.xlim(-1.5, 1)\n",
    "plt.ylim(-1, 2)\n",
    "plt.legend(fontsize='x-large')\n",
    "leg = plt.legend(fontsize='x-large')\n",
    "for lh in leg.legendHandles: \n",
    "    lh.set_alpha(1)\n",
    "plt.savefig(\"NIIvsOIII.png\")"
   ]
  },
  {
   "cell_type": "code",
   "execution_count": null,
   "metadata": {},
   "outputs": [],
   "source": []
  },
  {
   "cell_type": "code",
   "execution_count": null,
   "metadata": {},
   "outputs": [],
   "source": []
  },
  {
   "cell_type": "code",
   "execution_count": null,
   "metadata": {},
   "outputs": [],
   "source": [
    "total"
   ]
  },
  {
   "cell_type": "code",
   "execution_count": null,
   "metadata": {},
   "outputs": [],
   "source": []
  }
 ],
 "metadata": {
  "kernelspec": {
   "display_name": "Python 3.9.9 64-bit",
   "language": "python",
   "name": "python3"
  },
  "language_info": {
   "codemirror_mode": {
    "name": "ipython",
    "version": 3
   },
   "file_extension": ".py",
   "mimetype": "text/x-python",
   "name": "python",
   "nbconvert_exporter": "python",
   "pygments_lexer": "ipython3",
   "version": "3.9.9"
  },
  "pycharm": {
   "stem_cell": {
    "cell_type": "raw",
    "metadata": {
     "collapsed": false
    },
    "source": []
   }
  },
  "vscode": {
   "interpreter": {
    "hash": "e7370f93d1d0cde622a1f8e1c04877d8463912d04d973331ad4851f04de6915a"
   }
  }
 },
 "nbformat": 4,
 "nbformat_minor": 4
}
