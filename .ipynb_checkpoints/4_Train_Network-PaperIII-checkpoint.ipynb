{
 "cells": [
  {
   "cell_type": "markdown",
   "metadata": {},
   "source": [
    "# Neural Network\n",
    "We will write a nerual network classifier to determine the number of components in a spectra centered around Halpha"
   ]
  },
  {
   "cell_type": "code",
   "execution_count": 6,
   "metadata": {},
   "outputs": [],
   "source": [
    "from astropy.io import fits\n",
    "from scipy import interpolate\n",
    "import numpy as np\n",
    "import random\n",
    "from sklearn.ensemble import RandomForestClassifier\n",
    "from sklearn.metrics import confusion_matrix\n",
    "import seaborn as sns\n",
    "import matplotlib.pyplot as plt\n",
    "from sklearn.decomposition import PCA\n",
    "from keras.models import Sequential\n",
    "from tensorflow.keras.layers import Dense, InputLayer, Flatten, Dropout\n",
    "from tensorflow.keras.layers import Conv1D\n",
    "from tensorflow.keras.layers import MaxPooling1D\n",
    "from keras.optimizers import SGD, Adam\n",
    "from sklearn.metrics import confusion_matrix\n",
    "from keras.callbacks import EarlyStopping, ReduceLROnPlateau\n",
    "from keras.backend import clear_session\n",
    "from keras.regularizers import l2\n",
    "import time"
   ]
  },
  {
   "cell_type": "code",
   "execution_count": 7,
   "metadata": {},
   "outputs": [],
   "source": [
    "sim_names = ['Single', 'Double']\n",
    "ref_dir = 'SyntheticData/'#'/media/carterrhea/Dropbox/CFHT/Analysis-Paper2/SyntheticData/'\n",
    "syn_num = 10000  # Number of Synthetic Data per number of components"
   ]
  },
  {
   "cell_type": "markdown",
   "metadata": {},
   "source": [
    "## Read in Data"
   ]
  },
  {
   "cell_type": "code",
   "execution_count": 8,
   "metadata": {},
   "outputs": [],
   "source": [
    "# First we have to read in the reference spectra with a resolution of 5000\n",
    "ref_SN3 = fits.open('Reference-Spectrum-SN3.fits')[1].data\n",
    "channel = []\n",
    "counts = []\n",
    "for chan in ref_SN3:\n",
    "    channel.append(chan[0])\n",
    "    counts.append(chan[1])\n",
    "wavenumbers_syn_SN3 = channel"
   ]
  },
  {
   "cell_type": "code",
   "execution_count": 9,
   "metadata": {},
   "outputs": [
    {
     "name": "stdout",
     "output_type": "stream",
     "text": [
      "We are on: Single\n",
      "  We are on spectrum number 0\n",
      "  We are on spectrum number 1000\n",
      "  We are on spectrum number 2000\n",
      "  We are on spectrum number 3000\n",
      "  We are on spectrum number 4000\n",
      "  We are on spectrum number 5000\n",
      "  We are on spectrum number 6000\n",
      "  We are on spectrum number 7000\n",
      "  We are on spectrum number 8000\n",
      "  We are on spectrum number 9000\n",
      "We are on: Double\n",
      "  We are on spectrum number 0\n",
      "  We are on spectrum number 1000\n",
      "  We are on spectrum number 2000\n",
      "  We are on spectrum number 3000\n",
      "  We are on spectrum number 4000\n",
      "  We are on spectrum number 5000\n",
      "  We are on spectrum number 6000\n",
      "  We are on spectrum number 7000\n",
      "  We are on spectrum number 8000\n",
      "  We are on spectrum number 9000\n"
     ]
    }
   ],
   "source": [
    "Counts_single = []  # List containing the spectra\n",
    "Counts_double = []\n",
    "velocity_info = []\n",
    "sigma_info = []\n",
    "res_info = []\n",
    "sim_ct = 0\n",
    "for ct, sim_name in enumerate(sim_names):\n",
    "    print('We are on: %s'%sim_name)\n",
    "    output_dir = ref_dir+sim_name+'/'\n",
    "    plot_dir = ref_dir+sim_name+'/'\n",
    "    for spec_ct in range(syn_num):\n",
    "        if spec_ct%1000 == 0:\n",
    "            print('  We are on spectrum number %i'%spec_ct)\n",
    "        spectrum = fits.open(output_dir+'Spectrum_%i.fits'%spec_ct)\n",
    "        header = spectrum[0].header\n",
    "        spec = spectrum[1].data\n",
    "        channel = []\n",
    "        counts = []\n",
    "        for chan in spec:\n",
    "            channel.append(chan[0])\n",
    "            counts.append(chan[1])\n",
    "        # interpolate\n",
    "        f = interpolate.interp1d(channel, counts, kind='slinear')\n",
    "        # Get fluxes of interest\n",
    "        coun = f(wavenumbers_syn_SN3[2:-2])  # Need to cut the size just a little bit of the interpolating region otherwise we wont be able to interpolate!\n",
    "        if ct == 0:\n",
    "            Counts_single.append(np.array(coun))#[300:500])\n",
    "            velocity_info.append([header['VEL']])\n",
    "            sigma_info.append([header['BROAD']])\n",
    "        elif ct == 1:\n",
    "            Counts_double.append(np.array(coun))#[300:500])\n",
    "            velocity_info.append([header['VEL'], header['VEL2']])\n",
    "            sigma_info.append([header['BROAD'], header['BROAD2']])\n",
    "        else:\n",
    "            print('Something weird is happening!')\n",
    "        res_info.append([header['RES']])\n",
    "        \n",
    "    sim_ct += 1"
   ]
  },
  {
   "cell_type": "code",
   "execution_count": 10,
   "metadata": {},
   "outputs": [
    {
     "name": "stdout",
     "output_type": "stream",
     "text": [
      "489\n"
     ]
    },
    {
     "data": {
      "image/png": "[encoded data removed]",
      "text/plain": [
       "<Figure size 432x288 with 1 Axes>"
      ]
     },
     "metadata": {
      "needs_background": "light"
     },
     "output_type": "display_data"
    }
   ],
   "source": [
    "plt.plot(np.arange(len(coun)), coun)\n",
    "print(len(coun))"
   ]
  },
  {
   "cell_type": "code",
   "execution_count": 11,
   "metadata": {},
   "outputs": [
    {
     "name": "stdout",
     "output_type": "stream",
     "text": [
      "Length of spectra and labels: 20000 20000\n"
     ]
    }
   ],
   "source": [
    "# We need to make the labels\n",
    "#labels = ['single']*syn_num + ['double']*syn_num\n",
    "labels = [0]*syn_num + [1]*syn_num\n",
    "# Larger list of combined spectra\n",
    "spectra = Counts_single+ Counts_double\n",
    "# Let's now shuffle\n",
    "# Randomly re-arrange counts/labels\n",
    "reorder = list(zip(spectra, labels, velocity_info, sigma_info, res_info))\n",
    "random.shuffle(reorder)\n",
    "spectra, labels, velocity_info, sigma_info, res_info = zip(*reorder)\n",
    "# Quick sanity check\n",
    "print('Length of spectra and labels: %i %i' % (len(spectra), len(labels)))\n",
    "#np.count_nonzero(Validation_labels == 1)"
   ]
  },
  {
   "cell_type": "code",
   "execution_count": 12,
   "metadata": {},
   "outputs": [
    {
     "data": {
      "text/plain": [
       "([340.2202099623601], [-103.6493712537123])"
      ]
     },
     "execution_count": 12,
     "metadata": {},
     "output_type": "execute_result"
    }
   ],
   "source": [
    "# Just check some velocity info\n",
    "velocity_info[:2]"
   ]
  },
  {
   "cell_type": "markdown",
   "metadata": {},
   "source": [
    "## Setup Synthetic Data"
   ]
  },
  {
   "cell_type": "code",
   "execution_count": 13,
   "metadata": {},
   "outputs": [],
   "source": [
    "syn_num = 2*syn_num  # Two sets of 10,000 each (single and double)\n",
    "train_div = int(0.7*syn_num)  # Percent of synthetic data to use as training\n",
    "valid_div = int(0.9*syn_num)  # Percent of synthetic data used as training and validation (validation being the difference between this and train_div)\n",
    "test_div = int(1.0*syn_num)\n",
    "# Set training set \n",
    "TraningSet = np.array(spectra[:train_div])\n",
    "TraningSet = TraningSet.reshape(TraningSet.shape[0], TraningSet.shape[1], 1)\n",
    "Traning_init_labels = np.array((labels[0:train_div])).T\n",
    "# Set validation set\n",
    "ValidSet = np.array(spectra[train_div:valid_div])\n",
    "ValidSet = ValidSet.reshape(ValidSet.shape[0], ValidSet.shape[1], 1)\n",
    "Valid_init_labels = np.array((labels[train_div:valid_div])).T\n",
    "# Test set\n",
    "TestSet = np.array(spectra[valid_div:test_div])\n",
    "TestSet = TestSet.reshape(TestSet.shape[0], TestSet.shape[1], 1)\n",
    "TestSetLabels = np.array((labels[valid_div:test_div])).T"
   ]
  },
  {
   "cell_type": "markdown",
   "metadata": {},
   "source": [
    "## Define Neural Network"
   ]
  },
  {
   "cell_type": "code",
   "execution_count": 14,
   "metadata": {},
   "outputs": [
    {
     "name": "stdout",
     "output_type": "stream",
     "text": [
      "WARNING:tensorflow:`epsilon` argument is deprecated and will be removed, use `min_delta` instead.\n"
     ]
    }
   ],
   "source": [
    "activation = 'relu'  # activation function\n",
    "initializer = 'glorot_uniform'  # model initializer\n",
    "batch_size = 2  # number of data fed into model at once\n",
    "max_epochs = 25  # maximum number of interations\n",
    "input_shape = (None, len(spectra[0]), 1)  # shape of input spectra for the input layer\n",
    "num_filters = [4,4]  # number of filters in the convolutional layers\n",
    "filter_length = [16,8]  # length of the filters \n",
    "pool_length = 8  # length of the maxpooling\n",
    "early_stopping_min_delta = 0.0001\n",
    "early_stopping_patience = 4\n",
    "reduce_lr_factor = 0.5\n",
    "reuce_lr_epsilon = 0.009\n",
    "reduce_lr_patience = 2\n",
    "reduce_lr_min = 0.00008\n",
    "loss_function = 'sparse_categorical_crossentropy'\n",
    "metrics_ = ['accuracy', 'mse']\n",
    "\n",
    "\n",
    "\n",
    "clear_session()\n",
    "def create_model():\n",
    "    model = Sequential([\n",
    "        InputLayer(batch_input_shape=input_shape),\n",
    "        Conv1D(kernel_initializer=initializer, activation=activation, padding=\"same\", filters=num_filters[0], kernel_size=filter_length[0]),\n",
    "        Conv1D(kernel_initializer=initializer, activation=activation, padding=\"same\", filters=num_filters[1], kernel_size=filter_length[1]),\n",
    "        MaxPooling1D(pool_size=pool_length),\n",
    "        Flatten(),\n",
    "        Dropout(0.2),\n",
    "        Dense(units=1000, kernel_initializer=initializer, activation=activation, kernel_regularizer=l2(0.00005)),\n",
    "        Dropout(0.2),\n",
    "        Dense(units=1000, kernel_initializer=initializer, activation=activation, kernel_regularizer=l2(0.00005)),\n",
    "        Dense(2, activation='softmax'),\n",
    "    ])\n",
    "    return model\n",
    "\n",
    "optimizer = Adam(learning_rate=0.0004)\n",
    "early_stopping = EarlyStopping(monitor='val_loss', min_delta=early_stopping_min_delta,\n",
    "                                       patience=early_stopping_patience, verbose=2, mode='min')\n",
    "reduce_lr = ReduceLROnPlateau(monitor='val_loss', factor=0.5, epsilon=reuce_lr_epsilon,\n",
    "                                  patience=reduce_lr_patience, min_lr=reduce_lr_min, mode='min', verbose=2)\n"
   ]
  },
  {
   "cell_type": "markdown",
   "metadata": {},
   "source": [
    "# Train the neural network"
   ]
  },
  {
   "cell_type": "code",
   "execution_count": 15,
   "metadata": {},
   "outputs": [
    {
     "name": "stdout",
     "output_type": "stream",
     "text": [
      "Epoch 1/25\n",
      "7000/7000 - 243s - loss: 0.3486 - accuracy: 0.8677 - mse: 0.3994 - val_loss: 0.2449 - val_accuracy: 0.9218 - val_mse: 0.4295\n",
      "Epoch 2/25\n",
      "7000/7000 - 292s - loss: 0.2665 - accuracy: 0.9099 - mse: 0.4268 - val_loss: 0.2446 - val_accuracy: 0.9210 - val_mse: 0.4269\n",
      "Epoch 3/25\n",
      "7000/7000 - 285s - loss: 0.2535 - accuracy: 0.9131 - mse: 0.4302 - val_loss: 0.2207 - val_accuracy: 0.9362 - val_mse: 0.4242\n",
      "Epoch 4/25\n",
      "7000/7000 - 196s - loss: 0.2434 - accuracy: 0.9186 - mse: 0.4336 - val_loss: 0.2446 - val_accuracy: 0.9162 - val_mse: 0.4289\n",
      "Epoch 5/25\n",
      "7000/7000 - 205s - loss: 0.2425 - accuracy: 0.9179 - mse: 0.4336 - val_loss: 0.2270 - val_accuracy: 0.9255 - val_mse: 0.4279\n",
      "\n",
      "Epoch 00005: ReduceLROnPlateau reducing learning rate to 0.00019999999494757503.\n",
      "Epoch 6/25\n",
      "7000/7000 - 181s - loss: 0.2192 - accuracy: 0.9279 - mse: 0.4398 - val_loss: 0.2047 - val_accuracy: 0.9377 - val_mse: 0.4454\n",
      "Epoch 7/25\n",
      "7000/7000 - 159s - loss: 0.2195 - accuracy: 0.9281 - mse: 0.4396 - val_loss: 0.2159 - val_accuracy: 0.9330 - val_mse: 0.4468\n",
      "Epoch 8/25\n",
      "7000/7000 - 163s - loss: 0.2110 - accuracy: 0.9316 - mse: 0.4431 - val_loss: 0.2032 - val_accuracy: 0.9358 - val_mse: 0.4388\n",
      "\n",
      "Epoch 00008: ReduceLROnPlateau reducing learning rate to 9.999999747378752e-05.\n",
      "Epoch 9/25\n",
      "7000/7000 - 155s - loss: 0.2081 - accuracy: 0.9314 - mse: 0.4427 - val_loss: 0.1981 - val_accuracy: 0.9398 - val_mse: 0.4507\n",
      "Epoch 10/25\n",
      "7000/7000 - 161s - loss: 0.2047 - accuracy: 0.9321 - mse: 0.4443 - val_loss: 0.1962 - val_accuracy: 0.9402 - val_mse: 0.4502\n",
      "\n",
      "Epoch 00010: ReduceLROnPlateau reducing learning rate to 8e-05.\n",
      "Epoch 11/25\n",
      "7000/7000 - 163s - loss: 0.2012 - accuracy: 0.9359 - mse: 0.4452 - val_loss: 0.2145 - val_accuracy: 0.9298 - val_mse: 0.4507\n",
      "Epoch 12/25\n",
      "7000/7000 - 159s - loss: 0.2024 - accuracy: 0.9329 - mse: 0.4446 - val_loss: 0.2191 - val_accuracy: 0.9302 - val_mse: 0.4530\n",
      "Epoch 13/25\n",
      "7000/7000 - 154s - loss: 0.1992 - accuracy: 0.9351 - mse: 0.4462 - val_loss: 0.2058 - val_accuracy: 0.9362 - val_mse: 0.4497\n",
      "Epoch 14/25\n",
      "7000/7000 - 154s - loss: 0.2005 - accuracy: 0.9344 - mse: 0.4450 - val_loss: 0.2023 - val_accuracy: 0.9370 - val_mse: 0.4512\n",
      "Epoch 00014: early stopping\n"
     ]
    }
   ],
   "source": [
    "model = create_model()\n",
    "model.compile(optimizer=optimizer, loss=loss_function, metrics=metrics_)\n",
    "start = time.time()\n",
    "model.fit(TraningSet, Traning_init_labels, validation_data=(ValidSet, Valid_init_labels),\n",
    "      epochs=max_epochs,batch_size= batch_size, verbose=2, callbacks=[reduce_lr,early_stopping])\n",
    "end = time.time()"
   ]
  },
  {
   "cell_type": "code",
   "execution_count": 17,
   "metadata": {},
   "outputs": [
    {
     "name": "stdout",
     "output_type": "stream",
     "text": [
      "The total time to train is 44 minutes\n"
     ]
    }
   ],
   "source": [
    "#model.save('SITELLE-COMPONENTS.h5')\n",
    "print('The total time to train is %i minutes'%((end-start)/60))"
   ]
  },
  {
   "cell_type": "markdown",
   "metadata": {},
   "source": [
    "## Test the network"
   ]
  },
  {
   "cell_type": "code",
   "execution_count": 21,
   "metadata": {},
   "outputs": [
    {
     "name": "stdout",
     "output_type": "stream",
     "text": [
      "The total time to test is 0.79 seconds\n"
     ]
    }
   ],
   "source": [
    "start = time.time()\n",
    "test_predictions = model.predict(TestSet)\n",
    "end = time.time()\n",
    "predictions = [np.argmax(pred) for pred in test_predictions]\n",
    "matrix_conf = confusion_matrix(TestSetLabels,predictions)\n",
    "print('The total time to test is %.2f seconds'%((end-start)))"
   ]
  },
  {
   "cell_type": "markdown",
   "metadata": {},
   "source": [
    "## Visualize confusion matrix"
   ]
  },
  {
   "cell_type": "code",
   "execution_count": 12,
   "metadata": {},
   "outputs": [
    {
     "data": {
      "image/png": "[encoded data removed]",
      "text/plain": [
       "<Figure size 432x288 with 2 Axes>"
      ]
     },
     "metadata": {
      "needs_background": "light"
     },
     "output_type": "display_data"
    }
   ],
   "source": [
    "# Normalize confusion matrix\n",
    "matrix_conf = matrix_conf.astype('float64') \n",
    "norm_fac = np.sum(matrix_conf[:], axis=1)\n",
    "for row in range(matrix_conf.shape[0]):\n",
    "    matrix_conf[row,:] = 100*np.round(matrix_conf[row,:]*(1/norm_fac[row]),3)\n",
    "# Plot confusion matrix    \n",
    "sns_plot = sns.heatmap(matrix_conf, annot=True, cmap='Blues')\n",
    "sns_plot.set(xticklabels=['Single', 'Double'])\n",
    "sns_plot.set(yticklabels=['Single', 'Double'])\n",
    "plt.ylabel('True', fontsize='x-large', fontweight='bold')\n",
    "plt.xlabel('Predicted', fontsize='x-large', fontweight='bold')\n",
    "sns_fig = sns_plot.get_figure()\n",
    "plt.tight_layout()\n",
    "plt.savefig('NN-confusion.png')"
   ]
  }
 ],
 "metadata": {
  "kernelspec": {
   "display_name": "Python 3",
   "language": "python",
   "name": "python3"
  },
  "language_info": {
   "codemirror_mode": {
    "name": "ipython",
    "version": 3
   },
   "file_extension": ".py",
   "mimetype": "text/x-python",
   "name": "python",
   "nbconvert_exporter": "python",
   "pygments_lexer": "ipython3",
   "version": "3.8.5"
  }
 },
 "nbformat": 4,
 "nbformat_minor": 4
}
