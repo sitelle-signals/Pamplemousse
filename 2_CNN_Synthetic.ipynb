{
 "cells": [
  {
   "cell_type": "markdown",
   "metadata": {},
   "source": [
    "# Machine Learning Applied to Synthetic Sitelle Data\n"
   ]
  },
  {
   "cell_type": "code",
   "execution_count": 1,
   "metadata": {},
   "outputs": [
    {
     "name": "stderr",
     "output_type": "stream",
     "text": [
      "Using TensorFlow backend.\n"
     ]
    }
   ],
   "source": [
    "import matplotlib.pyplot as plt\n",
    "from astropy.io import fits\n",
    "import tensorflow as tf\n",
    "from keras.backend import clear_session\n",
    "from keras.models import Sequential\n",
    "from keras.layers import Dense, InputLayer, Flatten, Dropout\n",
    "from keras.layers.convolutional import Conv1D\n",
    "from keras.layers.convolutional import MaxPooling1D\n",
    "from keras.optimizers import Adam\n",
    "from keras.callbacks import EarlyStopping, ReduceLROnPlateau\n",
    "from keras.utils import to_categorical\n",
    "from sklearn import preprocessing\n",
    "from tqdm import tqdm_notebook as tqdm\n",
    "from pickle import dump\n",
    "from keras.backend import clear_session\n",
    "from sklearn.preprocessing import StandardScaler, MinMaxScaler, RobustScaler\n",
    "import numpy as np\n",
    "import seaborn as sns\n",
    "import pandas as pd\n",
    "from sklearn.model_selection import KFold\n",
    "from sklearn import metrics\n",
    "import statistics\n",
    "from scipy import interpolate\n",
    "from scipy.stats import gaussian_kde\n"
   ]
  },
  {
   "cell_type": "code",
   "execution_count": 4,
   "metadata": {},
   "outputs": [],
   "source": [
    "# Set Input Parameters\n",
    "output_dir = '/home/carterrhea/Desktop/Test/'  # Include trailing /\n",
    "syn_num = 1000  # Number of Synthetic Data"
   ]
  },
  {
   "cell_type": "markdown",
   "metadata": {},
   "source": [
    "## Read in Spectra"
   ]
  },
  {
   "cell_type": "code",
   "execution_count": 2,
   "metadata": {},
   "outputs": [],
   "source": [
    "# IF RESOLUTION IS SAMPLED USE THIS \n",
    "# This gets us the wavenumbers we are going to interpolate on\n",
    "# We use this spectra because it is a nice looking (can easily see the lines -- not relevant here)\n",
    "# spectra at a resolution of 5000 exactly. We want to keep that sampling :)\n",
    "spec98_ = fits.open('Reference-Spectrum.fits')[1].data\n",
    "channel = []\n",
    "counts = []\n",
    "for chan in spec98_:  \n",
    "    channel.append(chan[0])\n",
    "    counts.append(chan[1])\n",
    "min_ = np.argmin(np.abs(np.array(channel)-14500))  # note that we cut the values a bit more than we did during the creation of the synthetic data\n",
    "max_ = np.argmin(np.abs(np.array(channel)-15600))  # We do this to make sure all values are within the range and to avoid any extrapolation!\n",
    "wavenumbers_syn = channel[min_:max_] "
   ]
  },
  {
   "cell_type": "code",
   "execution_count": 5,
   "metadata": {},
   "outputs": [],
   "source": [
    "# Read in Fits -- This is not particularly fast :S\n",
    "Counts = []  # List containing the spectra\n",
    "Param_dict = {}  # {spectrum_ct: [velocity, broadening]}\n",
    "for spec_ct in range(syn_num):\n",
    "    spectrum = fits.open(output_dir+'Spectrum_%i.fits'%spec_ct)\n",
    "    header = spectrum[0].header\n",
    "    spec = spectrum[1].data\n",
    "    channel = []\n",
    "    counts = []\n",
    "    for chan in spec:  # Only want SN3 region\n",
    "        channel.append(chan[0])\n",
    "        counts.append(chan[1])\n",
    "    # We need to find the min and max wavenumber that match our min/max from our synthetic spectra    \n",
    "    # We go a bit further on either end for safety during the interpolation (so we don't need any extrapolation)\n",
    "    min_ = np.argmin(np.abs(np.array(channel)-14400))\n",
    "    max_ = np.argmin(np.abs(np.array(channel)-15700))\n",
    "    f = interpolate.interp1d(channel[min_:max_], counts[min_:max_], kind='slinear')  # interpolate using a linear spline\n",
    "    # Get fluxes of interest                                                                     \n",
    "    coun = f(wavenumbers_syn)\n",
    "    Counts.append(coun) \n",
    "    Param_dict[spec_ct] = [header['VELOCITY'], header['BROADEN']]  # Save velocity and broadening\n",
    "vel_spec = [val[0] for val in list(Param_dict.values())]  # Read velocity into list\n",
    "broad_spec = [val[1] for val in list(Param_dict.values())]  # Read broadening into list"
   ]
  },
  {
   "cell_type": "markdown",
   "metadata": {},
   "source": [
    "## Setup Machine Learning Algorithm"
   ]
  },
  {
   "cell_type": "code",
   "execution_count": 6,
   "metadata": {},
   "outputs": [
    {
     "name": "stderr",
     "output_type": "stream",
     "text": [
      "/home/carterrhea/anaconda3/lib/python3.7/site-packages/keras/callbacks/callbacks.py:998: UserWarning: `epsilon` argument is deprecated and will be removed, use `min_delta` instead.\n",
      "  warnings.warn('`epsilon` argument is deprecated and '\n"
     ]
    }
   ],
   "source": [
    "activation = 'relu'  # activation function\n",
    "initializer = 'he_normal'  # model initializer\n",
    "input_shape = (None, len(Counts[0]), 1)  # shape of input spectra for the input layer\n",
    "num_filters = [4,16]  # number of filters in the convolutional layers\n",
    "filter_length = [8,4]  # length of the filters \n",
    "pool_length = 2  # length of the maxpooling\n",
    "num_hidden = [256,128]  # number of nodes in the hidden layers\n",
    "batch_size = 2  # number of data fed into model at once\n",
    "max_epochs = 25  # maximum number of interations\n",
    "lr = 0.0007  # initial learning rate\n",
    "beta_1 = 0.9  # exponential decay rate  - 1st\n",
    "beta_2 = 0.999  # exponential decay rate  - 2nd\n",
    "optimizer_epsilon = 1e-08  # For the numerical stability\n",
    "early_stopping_min_delta = 0.0001\n",
    "early_stopping_patience = 4\n",
    "reduce_lr_factor = 0.5\n",
    "reuce_lr_epsilon = 0.009\n",
    "reduce_lr_patience = 2\n",
    "reduce_lr_min = 0.00008\n",
    "loss_function = 'mean_squared_error'\n",
    "metrics_ = ['accuracy', 'mae']\n",
    "# Clear session for sanity :)\n",
    "clear_session()\n",
    "model = Sequential([\n",
    "    InputLayer(batch_input_shape=input_shape),\n",
    "    Conv1D(kernel_initializer=initializer, activation=activation, padding=\"same\", filters=num_filters[0], kernel_size=filter_length[0]),\n",
    "    Conv1D(kernel_initializer=initializer, activation=activation, padding=\"same\", filters=num_filters[1], kernel_size=filter_length[1]),\n",
    "    MaxPooling1D(pool_size=pool_length),\n",
    "    Flatten(),\n",
    "    Dropout(0.2),\n",
    "    Dense(units=num_hidden[0], kernel_initializer=initializer, activation=activation),\n",
    "    Dense(units=num_hidden[1], kernel_initializer=initializer, activation=activation),\n",
    "    Dense(2),\n",
    "])\n",
    "# Set optimizer\n",
    "optimizer = Adam(lr=lr, beta_1=beta_1, beta_2=beta_2, epsilon=optimizer_epsilon, decay=0.0)\n",
    "# Set early stopping conditions\n",
    "early_stopping = EarlyStopping(monitor='val_loss', min_delta=early_stopping_min_delta, \n",
    "                                       patience=early_stopping_patience, verbose=2, mode='min')\n",
    "# Set learn rate reduction conditions\n",
    "reduce_lr = ReduceLROnPlateau(monitor='loss', factor=0.5, epsilon=reuce_lr_epsilon, \n",
    "                                  patience=reduce_lr_patience, min_lr=reduce_lr_min, mode='min', verbose=2)\n",
    "# Compile CNN\n",
    "model.compile(optimizer=optimizer, loss=loss_function, metrics=metrics_)"
   ]
  },
  {
   "cell_type": "markdown",
   "metadata": {},
   "source": [
    "To test no scaling (other than the normal scaling), we can just use the data we read in since our synthetic spectra have already been scaled by the maximum value."
   ]
  },
  {
   "cell_type": "code",
   "execution_count": 8,
   "metadata": {
    "scrolled": true
   },
   "outputs": [
    {
     "name": "stdout",
     "output_type": "stream",
     "text": [
      "Train on 700 samples, validate on 200 samples\n",
      "Epoch 1/10\n",
      " - 3s - loss: 6926.8499 - accuracy: 0.5971 - mae: 61.3165 - val_loss: 6321.1572 - val_accuracy: 0.5750 - val_mae: 56.1029\n",
      "Epoch 2/10\n",
      " - 1s - loss: 5147.5604 - accuracy: 0.6329 - mae: 49.2847 - val_loss: 3530.2183 - val_accuracy: 0.8350 - val_mae: 40.9384\n",
      "Epoch 3/10\n",
      " - 1s - loss: 1794.5521 - accuracy: 0.8971 - mae: 28.3811 - val_loss: 576.1165 - val_accuracy: 0.9650 - val_mae: 16.9546\n",
      "Epoch 4/10\n",
      " - 1s - loss: 603.7346 - accuracy: 0.9343 - mae: 17.4610 - val_loss: 514.4747 - val_accuracy: 0.9650 - val_mae: 16.5065\n",
      "Epoch 5/10\n",
      " - 1s - loss: 528.3834 - accuracy: 0.9557 - mae: 16.4571 - val_loss: 430.6654 - val_accuracy: 0.9650 - val_mae: 15.2681\n",
      "Epoch 6/10\n",
      " - 1s - loss: 441.0608 - accuracy: 0.9571 - mae: 15.3234 - val_loss: 385.7453 - val_accuracy: 0.9650 - val_mae: 14.5634\n",
      "Epoch 7/10\n",
      " - 1s - loss: 426.7855 - accuracy: 0.9557 - mae: 15.1410 - val_loss: 352.6820 - val_accuracy: 0.9650 - val_mae: 13.8803\n",
      "Epoch 8/10\n",
      " - 1s - loss: 387.4838 - accuracy: 0.9443 - mae: 14.6729 - val_loss: 369.2998 - val_accuracy: 0.9600 - val_mae: 14.6632\n",
      "Epoch 9/10\n",
      " - 1s - loss: 352.5138 - accuracy: 0.9571 - mae: 14.0588 - val_loss: 323.5518 - val_accuracy: 0.9450 - val_mae: 13.8583\n",
      "Epoch 10/10\n",
      " - 1s - loss: 354.7077 - accuracy: 0.9486 - mae: 14.0730 - val_loss: 298.3474 - val_accuracy: 0.9500 - val_mae: 13.2974\n",
      "Model: \"sequential_1\"\n",
      "_________________________________________________________________\n",
      "Layer (type)                 Output Shape              Param #   \n",
      "=================================================================\n",
      "conv1d_1 (Conv1D)            (None, 343, 4)            36        \n",
      "_________________________________________________________________\n",
      "conv1d_2 (Conv1D)            (None, 343, 16)           272       \n",
      "_________________________________________________________________\n",
      "max_pooling1d_1 (MaxPooling1 (None, 171, 16)           0         \n",
      "_________________________________________________________________\n",
      "flatten_1 (Flatten)          (None, 2736)              0         \n",
      "_________________________________________________________________\n",
      "dropout_1 (Dropout)          (None, 2736)              0         \n",
      "_________________________________________________________________\n",
      "dense_1 (Dense)              (None, 256)               700672    \n",
      "_________________________________________________________________\n",
      "dense_2 (Dense)              (None, 128)               32896     \n",
      "_________________________________________________________________\n",
      "dense_3 (Dense)              (None, 2)                 258       \n",
      "=================================================================\n",
      "Total params: 734,134\n",
      "Trainable params: 734,134\n",
      "Non-trainable params: 0\n",
      "_________________________________________________________________\n"
     ]
    }
   ],
   "source": [
    "# Get number of sucessful cloudy runs\n",
    "syn_num_pass = len(Counts)\n",
    "# Create divisions\n",
    "train_div = int(0.7*syn_num_pass)  # Percent of synthetic data to use as training\n",
    "valid_div = int(0.9*syn_num_pass)  # Percent of synthetic data to use as validation\n",
    "test_div = int(1.0*syn_num_pass)  # Percent of synthetic data to use as testing\n",
    "# Set training set \n",
    "TraningSet = np.array(Counts[:train_div])\n",
    "TraningSet = TraningSet.reshape(TraningSet.shape[0], TraningSet.shape[1], 1)\n",
    "Traning_init_labels = np.array((vel_spec[0:train_div], broad_spec[0:train_div])).T\n",
    "# Set validation set\n",
    "ValidSet = np.array(Counts[train_div:valid_div])\n",
    "ValidSet = ValidSet.reshape(ValidSet.shape[0], ValidSet.shape[1], 1)\n",
    "Valid_init_labels = np.array((vel_spec[train_div:valid_div], broad_spec[train_div:valid_div])).T\n",
    "model.fit(TraningSet, Traning_init_labels, validation_data=(ValidSet, Valid_init_labels), \n",
    "      epochs=10, verbose=2, callbacks=[reduce_lr,early_stopping])\n",
    "model.save('CNN_trained.h5')\n",
    "model.summary()"
   ]
  },
  {
   "cell_type": "code",
   "execution_count": 9,
   "metadata": {},
   "outputs": [],
   "source": [
    "# Apply on test test\n",
    "TestSet = np.array(Counts[valid_div:test_div])\n",
    "TestSet = TestSet.reshape(TestSet.shape[0], TestSet.shape[1], 1)\n",
    "TestSetLabels = np.array((vel_spec[valid_div:test_div], broad_spec[valid_div:test_div])).T\n",
    "test_predictions = model.predict(TestSet)"
   ]
  },
  {
   "cell_type": "code",
   "execution_count": 10,
   "metadata": {},
   "outputs": [
    {
     "data": {
      "image/png": "[encoded data removed]",
      "text/plain": [
       "<Figure size 432x288 with 2 Axes>"
      ]
     },
     "metadata": {
      "needs_background": "light"
     },
     "output_type": "display_data"
    }
   ],
   "source": [
    "# Calculate the errors\n",
    "vel_error = [(TestSetLabels[i,0]-test_predictions[i,0]) for i in range(len(test_predictions))]\n",
    "# Calculate the point density\n",
    "x = TestSetLabels[:,0]\n",
    "y = vel_error\n",
    "xy = np.vstack([x,y])\n",
    "z = gaussian_kde(xy)(xy)\n",
    "# Plots\n",
    "plt.scatter(x, y, c=z, s=5, edgecolor='')\n",
    "plt.xlabel('Velocity (km/s)', fontsize = 20, fontweight='bold')\n",
    "plt.ylabel('Residual (km/s)', fontsize = 15, fontweight='bold')\n",
    "cbar = plt.colorbar(extend='both')\n",
    "cbar.set_label('Density', rotation=270, labelpad=10)\n",
    "plt.ylim(-50,50)\n",
    "plt.savefig('Vel_Residual.png')"
   ]
  },
  {
   "cell_type": "code",
   "execution_count": 11,
   "metadata": {},
   "outputs": [
    {
     "data": {
      "image/png": "[encoded data removed]",
      "text/plain": [
       "<Figure size 432x288 with 2 Axes>"
      ]
     },
     "metadata": {
      "needs_background": "light"
     },
     "output_type": "display_data"
    }
   ],
   "source": [
    "broad_x = [TestSetLabels[i,1] for i in range(len(test_predictions))]\n",
    "vel_error = [(TestSetLabels[i,0]-test_predictions[i,0]) for i in range(len(test_predictions))]\n",
    "# Calculate the point density\n",
    "x = broad_x\n",
    "y = vel_error\n",
    "xy = np.vstack([x,y])\n",
    "z = gaussian_kde(xy)(xy)\n",
    "# Plot\n",
    "plt.scatter(x, y, c=z, s=20, edgecolor='')\n",
    "plt.xlabel('Broadening (km/s)', fontsize = 20, fontweight='bold')\n",
    "plt.ylabel('Residual (km/s)', fontsize = 15, fontweight='bold')\n",
    "cbar = plt.colorbar(extend='both')\n",
    "cbar.set_label('Density', rotation=270, labelpad=10)\n",
    "plt.savefig('Broad_Residual.png')"
   ]
  }
 ],
 "metadata": {
  "kernelspec": {
   "display_name": "Python 3",
   "language": "python",
   "name": "python3"
  },
  "language_info": {
   "codemirror_mode": {
    "name": "ipython",
    "version": 3
   },
   "file_extension": ".py",
   "mimetype": "text/x-python",
   "name": "python",
   "nbconvert_exporter": "python",
   "pygments_lexer": "ipython3",
   "version": "3.8.5"
  }
 },
 "nbformat": 4,
 "nbformat_minor": 4
}
